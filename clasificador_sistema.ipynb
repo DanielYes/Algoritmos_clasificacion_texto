{
 "cells": [
  {
   "cell_type": "code",
   "execution_count": 1,
   "metadata": {},
   "outputs": [],
   "source": [
    "import nltk\n",
    "import pandas as pd\n",
    "from nltk.corpus import stopwords\n",
    "from nltk.tokenize import word_tokenize\n",
    "from nltk.classify import NaiveBayesClassifier\n",
    "from nltk.classify.util import accuracy as nltk_accuracy\n",
    "from collections import defaultdict\n",
    "import random"
   ]
  },
  {
   "cell_type": "code",
   "execution_count": 2,
   "metadata": {},
   "outputs": [
    {
     "name": "stderr",
     "output_type": "stream",
     "text": [
      "[nltk_data] Downloading package punkt to /home/daniyes/nltk_data...\n",
      "[nltk_data]   Package punkt is already up-to-date!\n",
      "[nltk_data] Downloading package stopwords to\n",
      "[nltk_data]     /home/daniyes/nltk_data...\n",
      "[nltk_data]   Package stopwords is already up-to-date!\n"
     ]
    },
    {
     "data": {
      "text/plain": [
       "True"
      ]
     },
     "execution_count": 2,
     "metadata": {},
     "output_type": "execute_result"
    }
   ],
   "source": [
    "# Descargar recursos necesarios\n",
    "nltk.download('punkt')\n",
    "nltk.download('stopwords')"
   ]
  },
  {
   "cell_type": "code",
   "execution_count": 3,
   "metadata": {},
   "outputs": [],
   "source": [
    "path_data = \"/mnt/c/Users/dyesi/Documents/Platzi/Algoritmos_clasificacion_texto/BD_HIST_PRG.xlsx\"\n",
    "df = pd.read_excel(path_data)\n"
   ]
  },
  {
   "cell_type": "code",
   "execution_count": 4,
   "metadata": {},
   "outputs": [],
   "source": [
    "list_tuplas = list(zip(df['Actividad'], df['Sistema']))"
   ]
  },
  {
   "cell_type": "code",
   "execution_count": 5,
   "metadata": {},
   "outputs": [],
   "source": [
    "# Función para preprocesar el texto\n",
    "def preprocesar(texto):\n",
    "    stop_words = set(stopwords.words('spanish'))\n",
    "    tokens = word_tokenize(texto.lower())\n",
    "    tokens_filtrados = [word for word in tokens if word.isalnum() and word not in stop_words]\n",
    "    return tokens_filtrados\n",
    "\n",
    "# Preparar los datos para el clasificador\n",
    "datos_preprocesados = [(preprocesar(texto), categoria) for (texto, categoria) in list_tuplas]"
   ]
  },
  {
   "cell_type": "code",
   "execution_count": 6,
   "metadata": {},
   "outputs": [],
   "source": [
    "freq_dist_por_sistema = defaultdict(nltk.FreqDist)\n",
    "for texto, sistema in datos_preprocesados:\n",
    "    freq_dist_por_sistema[sistema].update(texto)\n"
   ]
  },
  {
   "cell_type": "code",
   "execution_count": 7,
   "metadata": {},
   "outputs": [],
   "source": [
    "total_tokens_por_sistema = {\n",
    "    sistema: sum(fd.values()) for sistema, fd in freq_dist_por_sistema.items()\n",
    "}\n",
    "\n",
    "porcentaje_freq_dist_por_sistema = {\n",
    "    sistema: {token: freq / total_tokens_por_sistema[sistema] if freq / total_tokens_por_sistema[sistema] >= 0.00009 else 0\n",
    "              for token, freq in fd.items()}\n",
    "    for sistema, fd in freq_dist_por_sistema.items()}"
   ]
  },
  {
   "cell_type": "code",
   "execution_count": 8,
   "metadata": {},
   "outputs": [],
   "source": [
    "def calcular_atributos(frase, sistemas, porcentaje_freq_dist_por_sistema):\n",
    "    atributos = {}\n",
    "    for sistema in sistemas:\n",
    "        atributos[sistema] = sum(\n",
    "            porcentaje_freq_dist_por_sistema[sistema].get(token, 0)\n",
    "            for token in frase\n",
    "        )\n",
    "    return atributos\n",
    "\n",
    "# Aplicar a los datos\n",
    "sistemas = list(freq_dist_por_sistema.keys())\n",
    "caracteristicas = [\n",
    "    (calcular_atributos(texto, sistemas, porcentaje_freq_dist_por_sistema), sistema)\n",
    "    for texto, sistema in datos_preprocesados]\n",
    "\n",
    "random.shuffle(caracteristicas)"
   ]
  },
  {
   "cell_type": "code",
   "execution_count": 9,
   "metadata": {},
   "outputs": [
    {
     "name": "stdout",
     "output_type": "stream",
     "text": [
      "Precisión del clasificador: 0.90\n"
     ]
    }
   ],
   "source": [
    "# Dividir en entrenamiento y prueba\n",
    "tamanio_entrenamiento = int(0.8 * len(caracteristicas))\n",
    "entrenamiento = caracteristicas[:tamanio_entrenamiento]\n",
    "prueba = caracteristicas[tamanio_entrenamiento:]\n",
    "\n",
    "# Entrenar el clasificador\n",
    "clasificador = NaiveBayesClassifier.train(entrenamiento)\n",
    "\n",
    "# Evaluar el clasificador\n",
    "precision = nltk.classify.accuracy(clasificador, prueba)\n",
    "print(f\"Precisión del clasificador: {precision:.2f}\")\n"
   ]
  },
  {
   "cell_type": "code",
   "execution_count": 10,
   "metadata": {},
   "outputs": [
    {
     "name": "stdout",
     "output_type": "stream",
     "text": [
      "El sistema vehicular predicho es: CR-GENERAL\n"
     ]
    }
   ],
   "source": [
    "novedad = \"parachoques posterior costado derecho golpeado\"\n",
    "novedad_tokens = preprocesar(novedad)\n",
    "\n",
    "atributos_novedad = calcular_atributos(novedad_tokens, sistemas, porcentaje_freq_dist_por_sistema)\n",
    "\n",
    "# Clasificar\n",
    "sistema_predicho = clasificador.classify(atributos_novedad)\n",
    "print(f\"El sistema vehicular predicho es: {sistema_predicho}\")"
   ]
  },
  {
   "cell_type": "code",
   "execution_count": 11,
   "metadata": {},
   "outputs": [
    {
     "data": {
      "text/plain": [
       "{'CH-BATERIA ALTA': 0.0005957700327673518,\n",
       " 'CH-DIRECCION': 0.0002403846153846154,\n",
       " 'CR-GENERAL': 0.029868412768368695,\n",
       " 'CH-DIFERENCIAL': 0,\n",
       " 'CH-SUSPENSION': 0.0023580271173118494,\n",
       " 'LL-LLANTAS': 0,\n",
       " 'CH-FRENOS': 0.0005935598753524262,\n",
       " 'GR-VEHICULO': 0.00018574805808848363,\n",
       " 'CH-NEUMATICO': 0,\n",
       " 'IT-ITS': 0,\n",
       " 'CR-LATONERIA': 0.20887643875295372,\n",
       " 'CH-BASTIDOR': 0,\n",
       " 'CH-ELECTRONICO': 0.001992914083259522,\n",
       " 'GR-LAVADO': 0,\n",
       " 'CH-BATERIA BAJA': 0.008771929824561403,\n",
       " nan: 0.019736842105263157,\n",
       " 'CH-REFRIGERACION': 0.0036496350364963502,\n",
       " 'IT-SIRCI': 0}"
      ]
     },
     "execution_count": 11,
     "metadata": {},
     "output_type": "execute_result"
    }
   ],
   "source": [
    "atributos_novedad"
   ]
  },
  {
   "cell_type": "code",
   "execution_count": 12,
   "metadata": {},
   "outputs": [
    {
     "data": {
      "text/plain": [
       "Sistema\n",
       "GR-VEHICULO         19860\n",
       "CR-GENERAL          17697\n",
       "LL-LLANTAS          13053\n",
       "CR-LATONERIA         6911\n",
       "IT-ITS               4349\n",
       "CH-FRENOS            1394\n",
       "GR-LAVADO            1323\n",
       "CH-ELECTRONICO       1122\n",
       "CH-NEUMATICO         1064\n",
       "CH-SUSPENSION         951\n",
       "CH-DIRECCION          901\n",
       "CH-BATERIA ALTA       843\n",
       "CH-DIFERENCIAL        348\n",
       "CH-BATERIA BAJA       143\n",
       "CH-REFRIGERACION       68\n",
       "IT-SIRCI                8\n",
       "CH-BASTIDOR             1\n",
       "Name: count, dtype: int64"
      ]
     },
     "execution_count": 12,
     "metadata": {},
     "output_type": "execute_result"
    },
    {
     "ename": "",
     "evalue": "",
     "output_type": "error",
     "traceback": [
      "\u001b[1;31mEl kernel se bloqueó al ejecutar código en la celda actual o en una celda anterior. \n",
      "\u001b[1;31mRevise el código de las celdas para identificar una posible causa del error. \n",
      "\u001b[1;31mHaga clic <a href='https://aka.ms/vscodeJupyterKernelCrash'>aquí</a> para obtener más información. \n",
      "\u001b[1;31mVea Jupyter <a href='command:jupyter.viewOutput'>log</a> para obtener más detalles."
     ]
    }
   ],
   "source": [
    "class_counts = df['Sistema'].value_counts()\n",
    "class_counts\n"
   ]
  },
  {
   "cell_type": "code",
   "execution_count": null,
   "metadata": {},
   "outputs": [],
   "source": [
    "from imblearn.over_sampling import SMOTE\n",
    "import pandas as pd\n",
    "\n",
    "# Supongamos que df es tu dataframe original\n",
    "# X es el conjunto de características\n",
    "# y es la columna de las etiquetas (e.g., 'Sistema')\n",
    "df_sample = df.sample(1000, random_state=42)\n",
    "\n",
    "\n",
    "X = df.drop('Sistema', axis=1)\n",
    "y = df['Sistema']\n",
    "\n",
    "# Convertir las variables categóricas en variables dummy\n",
    "X = pd.get_dummies(X, drop_first=True)\n",
    "\n",
    "# Aplicar SMOTE\n",
    "smote = SMOTE(random_state=42)\n",
    "X_resampled, y_resampled = smote.fit_resample(X, y)\n",
    "\n",
    "# Convertir el DataFrame balanceado a un dataset resampled\n",
    "df_resampled = pd.DataFrame(X_resampled, columns=X.columns)\n",
    "df_resampled['Sistema'] = y_resampled"
   ]
  }
 ],
 "metadata": {
  "kernelspec": {
   "display_name": "Python 3",
   "language": "python",
   "name": "python3"
  },
  "language_info": {
   "codemirror_mode": {
    "name": "ipython",
    "version": 3
   },
   "file_extension": ".py",
   "mimetype": "text/x-python",
   "name": "python",
   "nbconvert_exporter": "python",
   "pygments_lexer": "ipython3",
   "version": "3.10.12"
  }
 },
 "nbformat": 4,
 "nbformat_minor": 2
}
