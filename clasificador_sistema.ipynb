{
 "cells": [
  {
   "cell_type": "code",
   "execution_count": 32,
   "metadata": {},
   "outputs": [],
   "source": [
    "import nltk\n",
    "import pandas as pd\n",
    "from nltk.corpus import stopwords\n",
    "from nltk.tokenize import word_tokenize\n",
    "from nltk.classify import NaiveBayesClassifier\n",
    "from nltk.classify.util import accuracy as nltk_accuracy\n",
    "from collections import defaultdict"
   ]
  },
  {
   "cell_type": "code",
   "execution_count": 3,
   "metadata": {},
   "outputs": [
    {
     "name": "stderr",
     "output_type": "stream",
     "text": [
      "[nltk_data] Downloading package punkt to /home/danyesid/nltk_data...\n",
      "[nltk_data]   Package punkt is already up-to-date!\n",
      "[nltk_data] Downloading package stopwords to\n",
      "[nltk_data]     /home/danyesid/nltk_data...\n",
      "[nltk_data]   Package stopwords is already up-to-date!\n"
     ]
    },
    {
     "data": {
      "text/plain": [
       "True"
      ]
     },
     "execution_count": 3,
     "metadata": {},
     "output_type": "execute_result"
    }
   ],
   "source": [
    "# Descargar recursos necesarios\n",
    "nltk.download('punkt')\n",
    "nltk.download('stopwords')"
   ]
  },
  {
   "cell_type": "code",
   "execution_count": null,
   "metadata": {},
   "outputs": [],
   "source": [
    "path_data = \"/mnt/c/Users/daniel.cardenas/Documents/Programacion/programming_green/BD_HIST_PRG.xlsx\"\n",
    "df = pd.read_excel(path_data)\n"
   ]
  },
  {
   "cell_type": "code",
   "execution_count": 12,
   "metadata": {},
   "outputs": [],
   "source": [
    "list_tuplas = list(zip(df['Actividad'], df['Sistema']))"
   ]
  },
  {
   "cell_type": "code",
   "execution_count": 18,
   "metadata": {},
   "outputs": [],
   "source": [
    "# Función para preprocesar el texto\n",
    "def preprocesar(texto):\n",
    "    stop_words = set(stopwords.words('spanish'))\n",
    "    tokens = word_tokenize(texto.lower())\n",
    "    tokens_filtrados = [word for word in tokens if word.isalnum() and word not in stop_words]\n",
    "    return tokens_filtrados\n",
    "\n",
    "# Preparar los datos para el clasificador\n",
    "datos_preprocesados = [(preprocesar(texto), categoria) for (texto, categoria) in list_tuplas]"
   ]
  },
  {
   "cell_type": "code",
   "execution_count": 34,
   "metadata": {},
   "outputs": [],
   "source": [
    "freq_dist_por_sistema = defaultdict(nltk.FreqDist)\n",
    "for texto, sistema in datos_preprocesados:\n",
    "    freq_dist_por_sistema[sistema].update(texto)"
   ]
  },
  {
   "cell_type": "code",
   "execution_count": 35,
   "metadata": {},
   "outputs": [
    {
     "name": "stdout",
     "output_type": "stream",
     "text": [
      "defaultdict(<class 'nltk.probability.FreqDist'>, {'CH-BATERIA ALTA': FreqDist({'soporte': 283, 'campana': 281, 'retirar': 281, 'cable': 281, 'trifasico': 281, 'baterias': 225, 'actualizar': 223, 'alto': 223, 'carga': 212, 'voltaje': 210, ...}), 'CH-DIRECCION': FreqDist({'direccion': 348, 'splinder': 290, 'posicion': 259, 'juego': 228, '1': 176, '2': 164, 'holgura': 161, 'bomba': 161, 'axial': 126, 'caja': 123, ...}), 'CH-DIFERENCIAL': FreqDist({'aceite': 134, 'diferencial': 115, 'remanencia': 95, 'fuga': 81, 'speed': 71, 'cardan': 67, 'seguimiento': 66, 'ruido': 51, 'electromotor': 47, 'porta': 39, ...}), 'CH-FRENOS': FreqDist({'frenos': 554, 'pastillas': 462, 'prueba': 457, 'inhabilitacion': 445, 'puntos': 445, 'toma': 445, 'freno': 427, 'eje': 310, 'desgaste': 267, 'discos': 221, ...}), 'GR-VEHICULO': FreqDist({'carroceria': 12394, 'mtto': 12093, 'chasis': 4601, 'inspeccion': 2202, 'anual': 2199, 'periodica': 1848, 'revision': 1712, 'transmilenio': 1526, 'mantenimiento': 1385, 'alistamiento': 1120, ...}), 'CR-GENERAL': FreqDist({'hallazgo': 3814, 'desmanche': 2438, 'puerta': 1736, 'plataforma': 1472, 'operador': 1372, 'mal': 1327, 'costado': 1269, 'chasis': 1219, 'revision': 1122, '2': 1070, ...}), 'LL-LLANTAS': FreqDist({'llantas': 11553, 'ruedata': 7571, 'inspeccionar': 7376, 'traccion': 2083, 'cambiar': 1757, 'alineacion': 1487, 'direccion': 1133, 'rotar': 1037, 'reencauche': 1030, 'rotacion': 962, ...}), 'CH-NEUMATICO': FreqDist({'compresor': 864, 'sopleteo': 271, 'lamina': 258, 'campana': 250, 'instalacion': 250, 'proteccion': 250, 'ruido': 229, 'aire': 117, 'anormal': 96, 'fuga': 89, ...}), 'IT-ITS': FreqDist({'its': 820, 'ajuste': 624, 'cambio': 622, 'sts': 598, 'equipos': 573, 'telefonica': 487, 'ruteros': 459, 'tecnologia': 409, 'adecuacion': 397, 'electrica': 397, ...}), 'CR-LATONERIA': FreqDist({'hallazgo': 5045, 'delantero': 3161, 'parachoques': 3154, 'derecho': 2893, 'golpeado': 2328, 'costado': 2227, 'izquierdo': 1799, 'golpe': 1711, 'boca': 1340, 'rueda': 1191, ...}), 'CH-SUSPENSION': FreqDist({'posicion': 251, 'bombonas': 244, 'fuelle': 233, 'bases': 175, 'neumatico': 156, 'barra': 153, 'fuga': 140, 'cambio': 136, '2': 130, 'base': 127, ...}), 'CH-ELECTRONICO': FreqDist({'cambiar': 181, 'revision': 173, 'sistema': 161, 'modulo': 150, 'electromotores': 139, 'campana': 138, 'conexion': 138, 'tierra': 138, 'carga': 121, 'convertidor': 110, ...}), 'GR-LAVADO': FreqDist({'lavado': 1190, 'chasis': 1190, 'desmanche': 124, 'desmanches': 3, 'hallazgo': 3, 'manchado': 3, 'rin': 2, 'posición': 2, 'holgura': 1, 'excesiva': 1, ...}), 'CH-BATERIA BAJA': FreqDist({'baterias': 76, 'mal': 60, 'its': 46, 'baja': 44, 'bateria': 38, 'tension': 32, 'revision': 24, 'baterías': 21, 'chasis': 19, 'bajas': 15, ...}), nan: FreqDist({'its': 12, 'auditoria': 10, 'ente': 10, 'gestor': 10, 'transmilenio': 10, 'equipos': 10, 'cambio': 5, 'tecnologia': 5, 'ruteros': 5, 'hallazgo': 5, ...}), 'CH-REFRIGERACION': FreqDist({'bomba': 38, 'radiador': 20, 'gestión': 16, 'térmica': 15, 'termica': 15, 'gestion': 14, 'refrigerante': 13, 'enciende': 12, 'ventilador': 11, 'rotas': 10, ...}), 'IT-SIRCI': FreqDist({'its': 8, 'ajustar': 6, 'conexiones': 6, 'arnes': 6, 'revision': 2, 'datos': 2, 'produccion': 2})})\n"
     ]
    }
   ],
   "source": [
    "print(freq_dist_por_sistema)"
   ]
  },
  {
   "cell_type": "code",
   "execution_count": 29,
   "metadata": {},
   "outputs": [],
   "source": [
    "bat = [tupla for tupla in datos_preprocesados if tupla[1] == \"CH-BATERIA ALTA\"]\n",
    "\n",
    "# Crear una lista de palabras tokenizadas\n",
    "bat_words = []\n",
    "for texto, _ in bat:\n",
    "    if isinstance(texto, str):\n",
    "        # Si texto es una cadena, tokenizarlo\n",
    "        bat_words.extend(word_tokenize(texto.lower()))\n",
    "    elif isinstance(texto, list):\n",
    "        # Si texto ya está tokenizado, aplanar la lista\n",
    "        bat_words.extend(texto)\n",
    "\n",
    "# Asegurarse de que bat_words contiene solo cadenas\n",
    "bat_words = [word for word in bat_words if isinstance(word, str)]\n"
   ]
  },
  {
   "cell_type": "code",
   "execution_count": 31,
   "metadata": {},
   "outputs": [
    {
     "data": {
      "text/plain": [
       "[('soporte', 283),\n",
       " ('campana', 281),\n",
       " ('retirar', 281),\n",
       " ('cable', 281),\n",
       " ('trifasico', 281),\n",
       " ('baterias', 225),\n",
       " ('actualizar', 223),\n",
       " ('alto', 223),\n",
       " ('carga', 212),\n",
       " ('voltaje', 210),\n",
       " ('pruebas', 127),\n",
       " ('proceso', 79),\n",
       " ('revision', 76),\n",
       " ('descarga', 44),\n",
       " ('puerto', 43),\n",
       " ('pack', 16),\n",
       " ('sistema', 16),\n",
       " ('inteligente', 16),\n",
       " ('pin', 13),\n",
       " ('roto', 13),\n",
       " ('movil', 12),\n",
       " ('eficiencia', 11),\n",
       " ('recibe', 11),\n",
       " ('electromotor', 11),\n",
       " ('falla', 10),\n",
       " ('batería', 9),\n",
       " ('modulo', 9),\n",
       " ('ausencia', 9),\n",
       " ('tornillo', 9),\n",
       " ('energetica', 9),\n",
       " ('alta', 9),\n",
       " ('izquierdo', 8),\n",
       " ('conector', 8),\n",
       " ('amarre', 8),\n",
       " ('plástico', 8),\n",
       " ('sujeción', 8),\n",
       " ('8', 8),\n",
       " ('2', 8),\n",
       " ('fallas', 8),\n",
       " ('revisar', 8),\n",
       " ('puertos', 8),\n",
       " ('masas', 7),\n",
       " ('mal', 7),\n",
       " ('ab1', 6),\n",
       " ('sujeto', 6),\n",
       " ('corregir', 6),\n",
       " ('electrica', 6),\n",
       " ('masa', 5),\n",
       " ('seguimiento', 5),\n",
       " ('seguro', 5),\n",
       " ('2334', 5),\n",
       " ('rojo', 5),\n",
       " ('baterías', 4),\n",
       " ('baterais', 4),\n",
       " ('fuga', 4),\n",
       " ('rota', 4),\n",
       " ('cambio', 4),\n",
       " ('tornillos', 3),\n",
       " ('5', 3),\n",
       " ('corredera', 3),\n",
       " ('switch', 3),\n",
       " ('bateria', 3),\n",
       " ('2522', 3),\n",
       " ('desgaste', 3),\n",
       " ('terminal', 3),\n",
       " ('polo', 2),\n",
       " ('lamina', 2),\n",
       " ('sujecion', 2),\n",
       " ('bm1', 2),\n",
       " ('fallo', 2),\n",
       " ('modulos', 2),\n",
       " ('ingresa', 2),\n",
       " ('pistola', 2),\n",
       " ('derecho', 2),\n",
       " ('ausente', 2),\n",
       " ('desprendida', 2),\n",
       " ('partido', 2),\n",
       " ('faltantes', 2),\n",
       " ('vehiculo', 2),\n",
       " ('puente', 1),\n",
       " ('negativo', 1),\n",
       " ('3', 1),\n",
       " ('deteriorado', 1),\n",
       " ('golpe', 1),\n",
       " ('fuerte', 1),\n",
       " ('protectora', 1),\n",
       " ('validacion', 1),\n",
       " ('revisión', 1),\n",
       " ('módulo', 1),\n",
       " ('evcc', 1),\n",
       " ('falta', 1),\n",
       " ('hallazgo', 1),\n",
       " ('indicador', 1),\n",
       " ('gestión', 1),\n",
       " ('térmica', 1),\n",
       " ('encendido', 1),\n",
       " ('1351144', 1),\n",
       " ('desprendido', 1),\n",
       " ('electromotores', 1),\n",
       " ('regular', 1),\n",
       " ('evcc1', 1),\n",
       " ('recalentamiento', 1),\n",
       " ('borne', 1),\n",
       " ('positivo', 1),\n",
       " ('prueba', 1),\n",
       " ('cables', 1),\n",
       " ('trifásicos', 1),\n",
       " ('motor', 1),\n",
       " ('rotos', 1),\n",
       " ('empaque', 1),\n",
       " ('pendiente', 1),\n",
       " ('cambiar', 1),\n",
       " ('lado', 1),\n",
       " ('regenera', 1),\n",
       " ('fusible', 1),\n",
       " ('1', 1),\n",
       " ('chasis', 1),\n",
       " ('enchufe', 1),\n",
       " ('servicio', 1),\n",
       " ('diagnostico', 1),\n",
       " ('tension', 1)]"
      ]
     },
     "execution_count": 31,
     "metadata": {},
     "output_type": "execute_result"
    }
   ],
   "source": [
    "bat_words = nltk.FreqDist(bat_words)\n",
    "top_bat_words = bat_words.most_common(200)\n",
    "top_bat_words[:200]"
   ]
  },
  {
   "cell_type": "code",
   "execution_count": 16,
   "metadata": {},
   "outputs": [],
   "source": [
    "# Dividir los datos en conjuntos de entrenamiento y prueba\n",
    "train_size = int(len(datos_preprocesados) * 0.8)\n",
    "train_set = datos_preprocesados[:train_size]\n",
    "test_set = datos_preprocesados[train_size:]\n",
    "\n",
    "# Entrenar el clasificador Naive Bayes\n",
    "classifier = NaiveBayesClassifier.train(train_set)\n"
   ]
  },
  {
   "cell_type": "code",
   "execution_count": 17,
   "metadata": {},
   "outputs": [
    {
     "name": "stdout",
     "output_type": "stream",
     "text": [
      "Precisión del modelo: 0.6900462294134643\n",
      "Most Informative Features\n",
      "                 llantas = True           LL-LLA : CR-GEN =   7911.2 : 1.0\n",
      "              conexiones = True           IT-SIR : CR-GEN =   6281.9 : 1.0\n",
      "                   bomba = True           CH-REF : GR-VEH =   6141.0 : 1.0\n",
      "               direccion = True           CH-DIR : GR-VEH =   3837.0 : 1.0\n",
      "                   arnes = True           IT-SIR : CR-GEN =   3769.1 : 1.0\n"
     ]
    }
   ],
   "source": [
    "# Evaluar el modelo\n",
    "print(\"Precisión del modelo:\", nltk_accuracy(classifier, test_set))\n",
    "\n",
    "# Mostrar las características más informativas\n",
    "classifier.show_most_informative_features(5)\n"
   ]
  }
 ],
 "metadata": {
  "kernelspec": {
   "display_name": "Python 3",
   "language": "python",
   "name": "python3"
  },
  "language_info": {
   "codemirror_mode": {
    "name": "ipython",
    "version": 3
   },
   "file_extension": ".py",
   "mimetype": "text/x-python",
   "name": "python",
   "nbconvert_exporter": "python",
   "pygments_lexer": "ipython3",
   "version": "3.10.12"
  }
 },
 "nbformat": 4,
 "nbformat_minor": 2
}
